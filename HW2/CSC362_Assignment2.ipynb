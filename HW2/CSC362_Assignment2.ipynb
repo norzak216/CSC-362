{
  "nbformat": 4,
  "nbformat_minor": 0,
  "metadata": {
    "colab": {
      "provenance": [],
      "authorship_tag": "ABX9TyM4XKAYQZTtLEjJnbEsgHlO",
      "include_colab_link": true
    },
    "kernelspec": {
      "name": "python3",
      "display_name": "Python 3"
    },
    "language_info": {
      "name": "python"
    }
  },
  "cells": [
    {
      "cell_type": "markdown",
      "metadata": {
        "id": "view-in-github",
        "colab_type": "text"
      },
      "source": [
        "<a href=\"https://colab.research.google.com/github/norzak216/CSC-362/blob/main/HW2/CSC362_Assignment2.ipynb\" target=\"_parent\"><img src=\"https://colab.research.google.com/assets/colab-badge.svg\" alt=\"Open In Colab\"/></a>"
      ]
    },
    {
      "cell_type": "markdown",
      "source": [
        "Problem #1"
      ],
      "metadata": {
        "id": "J5UaSSup9kKB"
      }
    },
    {
      "cell_type": "code",
      "execution_count": 2,
      "metadata": {
        "colab": {
          "base_uri": "https://localhost:8080/"
        },
        "id": "QCylOEh18Pk7",
        "outputId": "aa8c1fae-7242-4424-d5cb-bb4fff763a96"
      },
      "outputs": [
        {
          "output_type": "execute_result",
          "data": {
            "text/plain": [
              "['Anna', 'Amy']"
            ]
          },
          "metadata": {},
          "execution_count": 2
        }
      ],
      "source": [
        "from collections import deque\n",
        "\n",
        "#start graph search via root using doubly-ended queue\n",
        "\n",
        "def FindFriends(G, User, K):\n",
        "\n",
        "    #deque is list-like container with fast appends and pops on either end\n",
        "    visited, queue = set(), deque([(User, 0)])\n",
        "    visited.add(User)\n",
        "\n",
        "    kth_level_friend = []\n",
        "\n",
        "    #exploring while queue is not empty\n",
        "    while queue:\n",
        "\n",
        "        #dequeue a vertex from queue\n",
        "        vertex, level = queue.popleft()\n",
        "\n",
        "        if level == K:\n",
        "            kth_level_friend.append(vertex)\n",
        "\n",
        "        #if not visited, mark as visited, and enqueue\n",
        "        for neighbor in G[vertex]:\n",
        "            if neighbor not in visited:\n",
        "                visited.add(neighbor)\n",
        "                queue.append((neighbor, level + 1))\n",
        "\n",
        "    if User in kth_level_friend:\n",
        "      kth_level_friend.remove(User)\n",
        "    return kth_level_friend\n",
        "\n",
        "#graph using an adjacency list\n",
        "graphFriends = {\n",
        "   'Richard' : ['Bob'],\n",
        "   'Bob' : ['Rob', 'Pam'],\n",
        "   'Rob' : ['Bob'],\n",
        "   'Pam' : ['Bob', 'Roger', 'Peter'],\n",
        "   'Peter' : ['Pam', 'Amy'],\n",
        "   'Amy' : ['Peter'],\n",
        "   'Roger' : ['Pam', 'Anna'],\n",
        "   'Anna' : ['Roger']\n",
        "}\n",
        "\n",
        "FindFriends(graphFriends, 'Bob', 3)"
      ]
    },
    {
      "cell_type": "markdown",
      "source": [
        "Problem #2"
      ],
      "metadata": {
        "id": "T_-1au-Y9pMF"
      }
    },
    {
      "cell_type": "code",
      "source": [
        "from collections import deque\n",
        "\n",
        "#start graph search via root using a doubly-ended queue\n",
        "\n",
        "def PotentialFriends(graph, name):\n",
        "\n",
        "    #deque is list-like container with fast appends and pops on either end\n",
        "    visited, queue = set(), deque([(name, 0)])\n",
        "    visited.add(name)\n",
        "\n",
        "    pf = []\n",
        "\n",
        "    #keep exploring while queue is not empty\n",
        "    while queue:\n",
        "\n",
        "        #dequeue a vertex from queue\n",
        "        vertex, level = queue.popleft()\n",
        "\n",
        "        #if original name does not have another as immediate friend, inlcude in list\n",
        "        if vertex != name and level > 1:\n",
        "          pf.append(vertex)\n",
        "\n",
        "        #if not visited, mark as visited, and enqueue it\n",
        "        for neighbor in graph[vertex]:\n",
        "            if neighbor not in visited:\n",
        "                visited.add(neighbor)\n",
        "                queue.append((neighbor, level + 1))\n",
        "\n",
        "    return pf\n",
        "\n",
        "#graph using an adjacency list\n",
        "graphPF = {\n",
        "   'Adam' : ['Maria'],\n",
        "   'Maria' : ['Adam', 'Sophia', 'Maya', 'David'],\n",
        "   'Sophia' : ['Maria', 'Maya'],\n",
        "   'Maya' : ['Maria', 'Sophia', 'David'],\n",
        "   'David' : ['Maria', 'Maya']\n",
        "}\n",
        "\n",
        "print(\"Adam's potential friends are: \", PotentialFriends(graphPF, 'Adam'))\n",
        "print(\"David's potential friends are: \",PotentialFriends(graphPF, 'David'))\n",
        "print(\"Sophia's potential friends are: \",PotentialFriends(graphPF, 'Sophia'))"
      ],
      "metadata": {
        "colab": {
          "base_uri": "https://localhost:8080/"
        },
        "id": "jhS8LDdd9rIi",
        "outputId": "a4e3b0a8-8c58-4a63-be14-26ecc21eff28"
      },
      "execution_count": 3,
      "outputs": [
        {
          "output_type": "stream",
          "name": "stdout",
          "text": [
            "Adam's potential friends are:  ['Sophia', 'Maya', 'David']\n",
            "David's potential friends are:  ['Adam', 'Sophia']\n",
            "Sophia's potential friends are:  ['Adam', 'David']\n"
          ]
        }
      ]
    },
    {
      "cell_type": "markdown",
      "source": [
        "Problem #3"
      ],
      "metadata": {
        "id": "oJhuhBoP-uBT"
      }
    },
    {
      "cell_type": "code",
      "source": [
        "from collections import deque\n",
        "\n",
        "#start graph search from root using a doubly-ended queue\n",
        "def DFS(graph, root, goal):\n",
        "\n",
        "    # deque is list like container with fast appends and pops on either end\n",
        "    visited, queue = set(), deque([root])\n",
        "    visited.add(root)\n",
        "\n",
        "    #keep exploring while the queue is not empty\n",
        "    while queue:\n",
        "\n",
        "        #dequeue a vertex from queue\n",
        "        vertex = queue.pop()\n",
        "        print(vertex, end=\" \")\n",
        "\n",
        "        #check if the current vertex location is goal state\n",
        "        if vertex == goal:\n",
        "            print(\"\\nSUCCESS\")\n",
        "            return\n",
        "\n",
        "        #if not visited, mark node as visited and enqueue it\n",
        "        #use reversed() to enforce left to right ordering\n",
        "        for neighbor in reversed(graph.get(vertex, [])):\n",
        "            if neighbor not in visited:\n",
        "                visited.add(neighbor)\n",
        "                queue.append(neighbor)\n",
        "\n",
        "    print(\"\\nFAILURE\")\n",
        "    return\n",
        "\n",
        "\n",
        "#mazes using adjacency lists\n",
        "print(\"---Maze 1---\")\n",
        "maze1 = {\n",
        "    '1': ['2','6'],\n",
        "    '2': ['1','3'],\n",
        "    '3': ['2','8'],\n",
        "    '4': ['5','9'],\n",
        "    '5': ['4','10'],\n",
        "    '6': ['1','11'],\n",
        "    '7': ['12'],\n",
        "    '8': ['3','9'],\n",
        "    '9': ['4','8','14'],\n",
        "    '10': ['5','15'],\n",
        "    '11': ['6','12'],\n",
        "    '12': ['7'],\n",
        "    '13': ['14','18'],\n",
        "    '14': ['9','13'],\n",
        "    '15': ['10','20'],\n",
        "    '16': ['17','21'],\n",
        "    '17': ['16','22'],\n",
        "    '18': ['13'],\n",
        "    '19': ['20','24'],\n",
        "    '20': ['15','19'],\n",
        "    '21': ['16','26'],\n",
        "    '22': ['17','23'],\n",
        "    '23': ['22','24','28'],\n",
        "    '24': ['19','23','25'],\n",
        "    '25': ['24','30'],\n",
        "    '26': ['21','27'],\n",
        "    '27': ['26','32'],\n",
        "    '28': ['23','29'],\n",
        "    '29': ['28','34'],\n",
        "    '30': ['25'],\n",
        "    '31': ['32','36'],\n",
        "    '32': ['27','31','33'],\n",
        "    '33': ['32','38'],\n",
        "    '34': ['29','40'],\n",
        "    '35': ['40'],\n",
        "    '36': ['31','41'],\n",
        "    '37': ['38'],\n",
        "    '38': ['33','37'],\n",
        "    '39': ['40','44'],\n",
        "    '40': ['35','39','45'],\n",
        "    '41': ['36','46'],\n",
        "    '42': ['43','47'],\n",
        "    '43': ['42','44'],\n",
        "    '44': ['39','43','49'],\n",
        "    '45': ['40','50'],\n",
        "    '46': ['41','47'],\n",
        "    '47': ['42','46'],\n",
        "    '48': ['49'],\n",
        "    '49': ['44'],\n",
        "    '50': ['45']\n",
        "}\n",
        "\n",
        "DFS(maze1, '1', '50')\n",
        "print(\"\\n---Maze 2---\")\n",
        "maze2 = {\n",
        "    '1': ['2','6'],\n",
        "    '2': ['1','3'],\n",
        "    '3': ['2','8'],\n",
        "    '4': ['5','9'],\n",
        "    '5': ['4','10'],\n",
        "    '6': ['1','11'],\n",
        "    '7': ['12'],\n",
        "    '8': ['3'],\n",
        "    '9': ['4','8','14'],\n",
        "    '10': ['5','15'],\n",
        "    '11': ['6','12'],\n",
        "    '12': ['7'],\n",
        "    '13': ['14','18'],\n",
        "    '14': ['9','13'],\n",
        "    '15': ['10','20'],\n",
        "    '16': ['17','21'],\n",
        "    '17': ['16','22'],\n",
        "    '18': ['13'],\n",
        "    '19': ['20','24'],\n",
        "    '20': ['15','19'],\n",
        "    '21': ['16','26'],\n",
        "    '22': ['17','23'],\n",
        "    '23': ['22','24','28'],\n",
        "    '24': ['19','23','25'],\n",
        "    '25': ['24','30'],\n",
        "    '26': ['21','27'],\n",
        "    '27': ['26','32'],\n",
        "    '28': ['23','29'],\n",
        "    '29': ['28','34'],\n",
        "    '30': ['25'],\n",
        "    '31': ['32','36'],\n",
        "    '32': ['27','31','33'],\n",
        "    '33': ['32','38'],\n",
        "    '34': ['29','40'],\n",
        "    '35': ['40'],\n",
        "    '36': ['31','41'],\n",
        "    '37': ['38'],\n",
        "    '38': ['33','37'],\n",
        "    '39': ['40','44'],\n",
        "    '40': ['35','39','45'],\n",
        "    '41': ['36','46'],\n",
        "    '42': ['43','47'],\n",
        "    '43': ['42','44'],\n",
        "    '44': ['39','43','49'],\n",
        "    '45': ['40','50'],\n",
        "    '46': ['41','47'],\n",
        "    '47': ['42','46'],\n",
        "    '48': ['49'],\n",
        "    '49': ['44'],\n",
        "    '50': ['45']\n",
        "}\n",
        "\n",
        "DFS(maze2, '1', '50')"
      ],
      "metadata": {
        "colab": {
          "base_uri": "https://localhost:8080/"
        },
        "id": "bNHbHNtf-v9w",
        "outputId": "545f62e7-2bda-4048-dd71-ee238be418d2"
      },
      "execution_count": 5,
      "outputs": [
        {
          "output_type": "stream",
          "name": "stdout",
          "text": [
            "---Maze 1---\n",
            "1 2 3 8 9 4 5 10 15 20 19 24 23 22 17 16 21 26 27 32 31 36 41 46 47 42 43 44 39 40 35 45 50 \n",
            "SUCCESS\n",
            "\n",
            "---Maze 2---\n",
            "1 2 3 8 6 11 12 7 \n",
            "FAILURE\n"
          ]
        }
      ]
    }
  ]
}